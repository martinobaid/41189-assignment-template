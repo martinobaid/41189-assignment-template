{
 "cells": [
  {
   "cell_type": "markdown",
   "metadata": {},
   "source": [
    "# Introduction to Human-Centred Complex Systems-Pre-Submission"
   ]
  },
  {
   "cell_type": "markdown",
   "metadata": {},
   "source": [
    "# 1.0: Introduction"
   ]
  },
  {
   "cell_type": "markdown",
   "metadata": {},
   "source": [
    "The COVID-19 pandemic has inhibited many elements that make up the global economy. Notably, the closure of borders and the enforcement of social distancing and lockdown laws has placed many constraints on economic development. These considerable barriers have led to persistently slowed economic growth, increased unemployment rates, reduced global interaction and a decline in overall living standards. Therefore, it is instrumental that an efficient post-pandemic economic development plan is imposed, which facilitates the prosperity of the global economy following COVID-19. Whilst the continuation of economic decline is inevitable as the pandemic persists, the enforcement of a holistic solution ensures that each individual is provided with direction to assist in the development of the broader economy. Additionally, it provides society with a comparative benchmark which enables one to evaluate economic growth and thus ensure that all elements in the economy interact in a manner which stimulates evolution and adaptation.\n",
    "\n",
    "Through adopting a many-model thinking approach, one can incorporate an all-encompassing perception of the COVID-19 pandemic. Consequently, this ensures that a proposed economic development plan is not restricted due to a lack of knowledge or an excessive volume of data. In light of this, Harvard Business Review states that “Models win because they possess capabilities that humans lack. Models can embed and leverage more data and can be tested, calibrated, and compared. And models do not commit logical errors. Models do not suffer from cognitive biases” (HBR, 2018, p. 4.). Therefore, in the development and enforcement of a sustainable plan, the use of an ensemble of models assists in deconstructing large amounts of data, in improving the predictive capacity of policymakers. Ultimately, as the COVID-19 pandemic presents severe impacts on individuals and the larger society, employing a supermarket of models ensures that the issue is understood entirely. Thus corrective action effectively assists in preventing the virus permanently and restoring economic development."
   ]
  },
  {
   "cell_type": "markdown",
   "metadata": {},
   "source": [
    "# 2.0: Context, Background & Justification:"
   ]
  },
  {
   "cell_type": "markdown",
   "metadata": {},
   "source": [
    "## 2.1: Research and review literature, news, digital media, drivers and how the problem is being addressed by academia, industry, government, etc."
   ]
  },
  {
   "cell_type": "markdown",
   "metadata": {},
   "source": [
    "The extent of the economic impacts of COVID-19 is addressed amidst Baldwin and Di Mauro’s academic article, which states that “COVID-19 is most definitely spreading economic suffering worldwide. The virus may be as contagious economically as it is medically” (2020, p. 6). Thus, it has become apparent that to completely mitigate the economic repercussions that coincide with the global pandemic, the initiative is required at a government, corporate and individual level. More specifically, the socially destructive impacts that COVID-19 has presented upon Australia includes an increase in unemployment from  5.2% in January to 7.5% in August whilst GDP has declined more than 7% in the June Quarter. These economic fluctuations present numerous threats to health and other indicators of a high standard of living. This notion is supported within Harris and Morrow’s academic study which conveys that “there is increasing Australian and international evidence that people who are unemployed are more likely to have higher rates of mortality, morbidity (illness) and use of health services” (2001, p. 1). Consequently, it is paramount that an efficient response is prioritised by all members of society to reduce further deterioration of mental health that has already increased to “30% of people showing signs of moderate to high depression and anxiety” (ABC, 2020, N.A.).\n",
    "\n",
    "In response to the threats mentioned above imposed by the pandemic, there have been various measures. At the government level, numerous budgetary adjustments have been implemented to improve current conditions. Notably, according to the Australian Government Department of Health, over \\\\$130 billion has been invested to alleviating the financial and socio-economic impacts that unemployment has placed. To further address this, over $669 million has been injected towards facilitating mental health issues that the pandemic has stimulated. However, the most significant response takes the form of a post-pandemic economic plan. The volatility and unpredictability of the virus create limitations concerning a definitive plan. Initially, the Australian government imposed a three-step plan to restore society to a prosperous state. Nonetheless, unprecedented cases saw this to be ineffective. Therefore, in the future development of a plan, policymakers must analyse the potential outcomes from an ensemble of models to reduce the impacts of an inefficient strategy that arises from biases and one-sidedness."
   ]
  },
  {
   "cell_type": "markdown",
   "metadata": {},
   "source": [
    "## 2.2: Identify the system + stakeholders. For this, you will need to construct a “rich picture” that captures the essential elements."
   ]
  },
  {
   "cell_type": "markdown",
   "metadata": {},
   "source": [
    "Systems are defined as a group or assemblage of interconnected units or entities to form a whole. They are categorised in distinct ways and construed by several boundaries. Few characteristics of systems include structure, behaviour, functionality, and a set of rules. More specifically, a system is a whole entity, thus when separated into portions could lose its substance. Some common examples of systems are the solar system, climate system, Dewey decimal system and transport system, to name a few. However, systems cannot function without stakeholders for they are the main contributors of the system and hence, play an essential part of being at the core of all the systems. These stakeholders could be in the form of creditors, employees, students, and customers and possess the ability to design, operate, maintain, or even destroy a system.\n",
    "\n",
    "Furthermore, coronavirus has been declared as a pandemic since 11 March 2020 by the World Health Organization. This virus has not only made people suffer physically but economically as well. Economic development in nearly every country has either come to a stop or has caused a recession. Economic development post-pandemic involves the socio-economic system as the pandemic had caused many public functions such as live concerts, sporting events and cultural festivities to be cancelled or postponed. It has led to the closing of schools, universities, and multiple businesses leaving unemployment to rise. Stakeholders of this system namely the general public (students, teachers, employers, employees, suppliers and citizens of foreign countries) have resorted to earn income and continue with their daily lives, for example, entrepreneurship using digital platforms or technological innovation. Hence, the pandemic has caused an outcry from people around the world as the socio-economic system continually fluctuates at this point."
   ]
  },
  {
   "cell_type": "markdown",
   "metadata": {},
   "source": [
    "![](Rich Picture.PNG)"
   ]
  },
  {
   "cell_type": "markdown",
   "metadata": {},
   "source": [
    "Ultimately, the above rich pictures in the mechanism used to deconstruct and present key aspects of the COVID-19 pandemic. This enables one to gain an aggregate understanding of the topic in a simplistic manner and simultaneously provides policymakers with a holistic outlook. Through integrating the essential elements, it allows large volumes of data and statistics to be summarised and readily comprehensible to allow for appropriate action through an effective post-pandemic economic development plan."
   ]
  },
  {
   "cell_type": "markdown",
   "metadata": {},
   "source": [
    "## 2.3: Identify current models or prevailing frames that are being used to address the problem"
   ]
  },
  {
   "cell_type": "markdown",
   "metadata": {},
   "source": [
    "Current models that are being used to manage economic development post-COVID-19 includes the Global Trade Analysis Model (GTAP) which is a computable general equilibrium model that is used by the Australian Treasury (PWC, 2020, p. 4). Through the use of this model, PWC (2020, p. 6) has predicted that the coronavirus pandemic will reduce Australia’s GDP by \\\\$34.2 billion. According to PWC (2020, p. 8) countries like Australia suffer more in situations involving a pandemic as Australia has relatively higher consumption that relies on imports and exports, so as a result Australia’s household consumption is forecast to decline by $37.9 billion over the year as well.\n",
    "\n",
    "The Australian economy is very reliant on the health of our workers hence modelling of the coronavirus impact on the health of people is vital in addressing economic development. According to Australian Government (2020, p. 2 ), the University of Melbourne is using a modelling system they’ve dubbed “nowcasting” to better understand the present state of the pandemic in Australia using live data. By doing so, they can better review the effectiveness of restrictions as well as being able to be better prepared to define future response strategies by comparing patterns of the pandemic now and potential future pandemics. Along with analysing the known cases modelling system also is modelling the reproductive numbers to predict the distance and speed of the spread (Australian Government, 2020, p. 4).\n"
   ]
  },
  {
   "cell_type": "markdown",
   "metadata": {},
   "source": [
    "## 2.4: Discuss how prevailing models/frames are preventing the problem from being fully addressed or solved"
   ]
  },
  {
   "cell_type": "markdown",
   "metadata": {},
   "source": [
    "Outdated static models are preventing problems concerning economic development post-pandemic as static models are not being updated and altered to produce data that is accurate in today’s quickly changing world. Due to the pandemics unpredictable nature, it has been difficult to predict when the economy will be able to return to its potential pre-pandemic. According to Ahmad (2020), if coordination was more effective amongst countries, the pandemic could’ve had less devastating effects. If accurate modelling were practised as soon as the virus was heard of then the epidemic would have never had to be considered a pandemic. Due to governments passing the COVID-19 virus as just the flu that will pass with warmer seasons and using static modelling systems the virus has spread and become a pandemic which could’ve been avoided with the addition of a more ‘elastic’ model predicting the spread rate of the virus alongside the depth of the spread before flatlining. The modelling systems that should be implemented should initially be solely focused on returning to optimal health levels of a country's citizens rather than focusing on economic development as the economy is reliant on the health of the working person.\n",
    "\n",
    "According to Kissler et al. (2020, p. 860), we do not know enough about the coronavirus to be able to efficiently model the effects of it as well as the seasonal influences and transmission to be able to predict transmission dynamics accurately.  The long term dynamics of the virus depends on the immune system and the responses of it, which may have the virus occur up until 2025 (Kissler et al., 2020, p. 860). As a result of this uncertainty adapting current models to have accurate predictions has been difficult as the accuracy of the results is very low hence why it is proving to be a problem in regards to the problem space being solved.\n"
   ]
  },
  {
   "cell_type": "markdown",
   "metadata": {},
   "source": [
    "# 3.0: Conceptual models:"
   ]
  },
  {
   "cell_type": "markdown",
   "metadata": {},
   "source": [
    "## 3.1: Based on your self-study of the supermarket of models, explain the three models that you have chosen to look at the problem"
   ]
  },
  {
   "cell_type": "markdown",
   "metadata": {},
   "source": [
    "Throughout our studies our fellow peers were taught about the ‘supermarket of models’, there are a variety of models that independently conclude on the outcomes and reasons behind such outcomes, the output of this data from an applied study allows us to better predict and delve into complex issues occurring around us. To integrate our chosen topic, the analysis of economic development during a post-pandemic world benefits from a multitude of models as the very nature of the topic is of a broad-nature.\n",
    "The three chosen models are behavioural modelling under the broader ‘modelling people’ topic; random walks modelling under the ‘complex systems evolution’ topic and Granovetter's Model under the ‘segregation and peer effects’ topic.\n"
   ]
  },
  {
   "cell_type": "markdown",
   "metadata": {},
   "source": [
    "## 3.2: Explain how each of the three models works (brief) and how it will be applied in your case."
   ]
  },
  {
   "cell_type": "markdown",
   "metadata": {},
   "source": [
    "#### Modelling People - Behavioural Model"
   ]
  },
  {
   "cell_type": "markdown",
   "metadata": {},
   "source": [
    "The behavioural model in itself comprises ‘objective functions’, the core base of which our dataset will rotate around, and under these circumstances then we analyze and conclude.\n",
    "\n",
    "The concept of modelling people behaviourally means that our scope of data will try to model the general public as close as possible to how these behaviours would play out in reality. This is in essence different to the two other people-based models, rational and rule-based. Our group members should not assume the general public will be rational, under this, we then observe and establish conclusions based on the output.\n",
    "\n",
    "It is important to remember our study-topic, to fully understand the effects of economic development post-pandemic we must also analyse ‘random walks’ in a population and population segregation (Granovetter's Model) as to accurately model and apply our conclusions. Otherwise, our dataset will have no direct correlation to a population it is trying to model on a larger scale.\n"
   ]
  },
  {
   "cell_type": "markdown",
   "metadata": {},
   "source": [
    "#### Complex Systems Evolution - Random walks"
   ]
  },
  {
   "cell_type": "markdown",
   "metadata": {},
   "source": [
    "The random walks models is a very intriguing and simple model that can be applied to our broader population within our dataset. The random walks model, in theory, is simple and can be applied to many recurring events but there are two types of ‘random walks’ that can be applied of which a ‘binary random walk’ or a ‘finite memory random walk’. A ‘binary random walk’ is a simple model that is commonly explained through the example of a coin-flip. A ‘binary random walk’ in this case would model X = 0 and simply add or subtract one depending on heads or tails. For simplicity's sake, our team will be sticking with a binary random walk as the dataset can get out-of-hand with a ‘finite memory random walk’. The binary random walk is an important model for our use-case as it enables us to create theoretical events tracking the movement of people and the effects of such on economic development as the community attempts to ‘re-integrate’ to its previous orderly state pre-pandemic."
   ]
  },
  {
   "cell_type": "markdown",
   "metadata": {},
   "source": [
    "#### Segregation and Peer Effects - Granovetter's Model"
   ]
  },
  {
   "cell_type": "markdown",
   "metadata": {},
   "source": [
    "The Granovetter's Model is an exceptional model based on the broader segregation and peer effects scope and wonderfully integrates into our key topic. The Granovetter's Model is a model that attempts to identify the ‘extremes’ that drive phenomenon to occur in communities. A relevant example of such has been witnessed recently in Victoria as many residents protest against the government after growing ‘sick and tired’ of being ‘trapped’ indoors. This phenomenon in Victoria brings great credibility to the potential of Granovetter's Model. The Granovetter's Model is a slightly complex model that involves a variable N representing individuals with a threshold of joining such a movement, each individual requiring a value above their threshold to join the movement. With an appropriate dataset, the Granovetter's Model has proved time-again to provide great outcomes which can be analysed on a broader scope with other models."
   ]
  },
  {
   "cell_type": "markdown",
   "metadata": {},
   "source": [
    "### 3.3: Describe any data sources (real or hypothetical) that are needed to construct the three models. Use illustrative drawings and diagrams where possible"
   ]
  },
  {
   "cell_type": "markdown",
   "metadata": {},
   "source": [
    "Various academic, government and statistical sources need to be used to facilitate the development of the models. More specifically, data sources that need to be considered include data from the Australian census to determine the population make up of every suburb and the density of people within a specific region. Using this information, we should be able to model patterns of movement of people within particular areas to be able to model the spread and distribution of the virus amongst people. Data from the health department is also required to help model the frequency of coronavirus cases in order to model the economic development post-COVID-19 as the health of the working people is what the economy relies on. Further iterations of data are required from the health department, such as the infection rate of the virus spreading from person to person along with various hotspots. The graphs below gave insights into the correlation between the virus and economic fluctuations. This is crucial in the development of models that underpin all aspects of the issue and enhances the predictability of changes in each variable upon one another."
   ]
  },
  {
   "cell_type": "markdown",
   "metadata": {},
   "source": [
    "COVID Cases"
   ]
  },
  {
   "cell_type": "markdown",
   "metadata": {},
   "source": [
    "![](COVIDCases.PNG)"
   ]
  },
  {
   "cell_type": "markdown",
   "metadata": {},
   "source": [
    "(Wikipedia, 2020) "
   ]
  },
  {
   "cell_type": "markdown",
   "metadata": {},
   "source": [
    "Unemployment Rate"
   ]
  },
  {
   "cell_type": "markdown",
   "metadata": {},
   "source": [
    "![](UnemploymentRate.PNG)"
   ]
  },
  {
   "cell_type": "markdown",
   "metadata": {},
   "source": [
    "(ABS, 2020)"
   ]
  }
 ],
 "metadata": {
  "kernelspec": {
   "display_name": "Python 3",
   "language": "python",
   "name": "python3"
  },
  "language_info": {
   "codemirror_mode": {
    "name": "ipython",
    "version": 3
   },
   "file_extension": ".py",
   "mimetype": "text/x-python",
   "name": "python",
   "nbconvert_exporter": "python",
   "pygments_lexer": "ipython3",
   "version": "3.7.4"
  }
 },
 "nbformat": 4,
 "nbformat_minor": 4
}
