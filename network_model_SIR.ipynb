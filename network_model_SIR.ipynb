{
 "cells": [
  {
   "cell_type": "markdown",
   "metadata": {},
   "source": [
    "# network model with Mesa\n",
    "\n",
    "Links\n",
    "\n",
    "* https://github.com/projectmesa/mesa/blob/master/examples/virus_on_network/virus_on_network/model.py\n",
    "* https://networkx.github.io/documentation/stable/reference/drawing.html\n",
    "* https://stackoverflow.com/questions/63681056/visualizing-agents-using-mesa-networkx"
   ]
  },
  {
   "cell_type": "code",
   "execution_count": 1,
   "metadata": {},
   "outputs": [],
   "source": [
    "import time, enum, math\n",
    "import numpy as np\n",
    "import pandas as pd\n",
    "import pylab as plt\n",
    "from mesa import Agent, Model\n",
    "from mesa.time import RandomActivation\n",
    "from mesa.space import NetworkGrid\n",
    "from mesa.datacollection import DataCollector\n",
    "\n",
    "import networkx as nx"
   ]
  },
  {
   "cell_type": "code",
   "execution_count": 15,
   "metadata": {},
   "outputs": [],
   "source": [
    "class State(enum.IntEnum):\n",
    "    SUSCEPTIBLE = 0\n",
    "    INFECTED = 1\n",
    "    REMOVED = 2"
   ]
  },
  {
   "cell_type": "code",
   "execution_count": 16,
   "metadata": {},
   "outputs": [],
   "source": [
    "class MyAgent(Agent):\n",
    "    \"\"\" An agent in an epidemic model.\"\"\"\n",
    "    def __init__(self, unique_id, model):\n",
    "        super().__init__(unique_id, model)\n",
    "        self.age = int(self.random.normalvariate(20,40))\n",
    "        self.state = State.SUSCEPTIBLE  \n",
    "        self.infection_time = 0\n",
    "\n",
    "    def move(self):\n",
    "        \"\"\"Move the agent\"\"\"\n",
    "\n",
    "        possible_steps = [\n",
    "            node\n",
    "            for node in self.model.grid.get_neighbors(self.pos, include_center=False)\n",
    "            if self.model.grid.is_cell_empty(node)\n",
    "        ]\n",
    "        if len(possible_steps) > 0:\n",
    "            new_position = self.random.choice(possible_steps)                 \n",
    "            self.model.grid.move_agent(self, new_position)\n",
    "\n",
    "    def status(self):\n",
    "        \"\"\"Check infection status\"\"\"\n",
    "        \n",
    "        if self.state == State.INFECTED:     \n",
    "            drate = self.model.death_rate\n",
    "            alive = np.random.choice([0,1], p=[drate,1-drate])\n",
    "            if alive == 0:\n",
    "                self.model.schedule.remove(self)            \n",
    "            t = self.model.schedule.time-self.infection_time\n",
    "            if t >= self.recovery_time:          \n",
    "                self.state = State.REMOVED\n",
    "            #print (self.model.schedule.time,self.recovery_time,t)\n",
    "\n",
    "    def contact(self):\n",
    "        \"\"\"Find close contacts and infect\"\"\"\n",
    "        \n",
    "        neighbors_nodes = self.model.grid.get_neighbors(self.pos, include_center=False)\n",
    "        susceptible_neighbors = [\n",
    "            agent\n",
    "            for agent in self.model.grid.get_cell_list_contents(neighbors_nodes)\n",
    "            if agent.state is State.SUSCEPTIBLE\n",
    "        ]\n",
    "        for a in susceptible_neighbors:\n",
    "            if self.random.random() < model.ptrans:\n",
    "                a.state = State.INFECTED\n",
    "                a.recovery_time = model.get_recovery_time()\n",
    "                                \n",
    "    def step(self):\n",
    "        self.status()\n",
    "        self.move()\n",
    "        self.contact()\n",
    "        \n",
    "    def toJSON(self):        \n",
    "        d = self.unique_id\n",
    "        return json.dumps(d, default=lambda o: o.__dict__, \n",
    "            sort_keys=True, indent=4)"
   ]
  },
  {
   "cell_type": "markdown",
   "metadata": {},
   "source": [
    "## Infection model"
   ]
  },
  {
   "cell_type": "code",
   "execution_count": 5,
   "metadata": {},
   "outputs": [],
   "source": [
    "#?nx.erdos_renyi_graph"
   ]
  },
  {
   "cell_type": "code",
   "execution_count": 37,
   "metadata": {},
   "outputs": [],
   "source": [
    "class NetworkInfectionModel(Model):\n",
    "    \"\"\"A model for infection spread.\"\"\"\n",
    "    \n",
    "    def __init__(self, N=10, ptrans=0.5, avg_node_degree=3,\n",
    "                 progression_period=3, progression_sd=2, death_rate=0.0193, recovery_days=14,\n",
    "                 recovery_sd=7):\n",
    "        \n",
    "        #self.num_agents = N\n",
    "        self.num_nodes = N  \n",
    "        prob = avg_node_degree / self.num_nodes\n",
    "        \n",
    "        self.initial_outbreak_size = 1\n",
    "        self.recovery_days = recovery_days\n",
    "        self.recovery_sd = recovery_sd\n",
    "        self.ptrans = ptrans\n",
    "        self.death_rate = death_rate\n",
    "        \n",
    "        self.G = nx.erdos_renyi_graph(n=self.num_nodes, p=prob)\n",
    "        self.grid = NetworkGrid(self.G)\n",
    "        \n",
    "        self.schedule = RandomActivation(self)\n",
    "        self.running = True\n",
    "        #self.dead_agents = []\n",
    "        \n",
    "        # Create agents\n",
    "        for i, node in enumerate(self.G.nodes()):\n",
    "            a = MyAgent(i+1, self)\n",
    "            self.schedule.add(a)\n",
    "            #add agent\n",
    "            self.grid.place_agent(a, node)\n",
    "\n",
    "            #make some agents infected at start\n",
    "            infected = np.random.choice([0,1], p=[0.99,0.01])\n",
    "            if infected == 1:\n",
    "                a.state = State.INFECTED\n",
    "                a.recovery_time = self.get_recovery_time()\n",
    "            \n",
    "        self.datacollector = DataCollector(            \n",
    "            agent_reporters={\"State\": \"state\"})\n",
    "\n",
    "    def get_recovery_time(self):\n",
    "        return int(self.random.normalvariate(self.recovery_days,self.recovery_sd))\n",
    "    \n",
    "    def step(self):\n",
    "        self.datacollector.collect(self)\n",
    "        self.schedule.step()"
   ]
  },
  {
   "cell_type": "code",
   "execution_count": 7,
   "metadata": {},
   "outputs": [
    {
     "data": {
      "text/plain": [
       "<__main__.NetworkInfectionModel at 0x190715aa6c8>"
      ]
     },
     "execution_count": 7,
     "metadata": {},
     "output_type": "execute_result"
    }
   ],
   "source": [
    "model = NetworkInfectionModel(300, ptrans=0.2)\n",
    "model.step()\n",
    "model"
   ]
  },
  {
   "cell_type": "code",
   "execution_count": 8,
   "metadata": {},
   "outputs": [],
   "source": [
    "def get_column_data(model):\n",
    "    #pivot the model dataframe to get states count at each step\n",
    "    agent_state = model.datacollector.get_agent_vars_dataframe()\n",
    "    X = pd.pivot_table(agent_state.reset_index(),index='Step',columns='State',aggfunc=np.size,fill_value=0)    \n",
    "    labels = ['Susceptible','Infected','Removed']\n",
    "    X.columns = labels[:len(X.columns)]\n",
    "    return X\n",
    "    \n",
    "def plot_states(model,ax):    \n",
    "    steps = model.schedule.steps\n",
    "    X = get_column_data(model)\n",
    "    X.plot(ax=ax,lw=3,alpha=0.8)\n",
    "    return f"
   ]
  },
  {
   "cell_type": "code",
   "execution_count": 34,
   "metadata": {},
   "outputs": [
    {
     "name": "stdout",
     "output_type": "stream",
     "text": [
      "4.745265245437622\n",
      "      Susceptible  Infected  Removed\n",
      "Step                                \n",
      "0            2475        25        0\n",
      "1             901      1523       31\n",
      "2             555      1723       77\n",
      "3             434      1719      118\n",
      "4             387      1622      150\n",
      "5             372      1517      185\n",
      "6             362      1412      223\n",
      "7             362      1303      264\n",
      "8             359      1167      330\n",
      "9             358      1048      394\n"
     ]
    }
   ],
   "source": [
    "#pop=200\n",
    "steps=50\n",
    "st=time.time()\n",
    "model = NetworkInfectionModel(N=2500, ptrans=0.50, avg_node_degree=2, \\\n",
    "                 progression_period=3, progression_sd=2, death_rate=0.05, recovery_days=14, \\\n",
    "                 recovery_sd=7)\n",
    "for i in range(steps):\n",
    "    model.step()\n",
    "print (time.time()-st)\n",
    "agent_state = model.datacollector.get_agent_vars_dataframe()\n",
    "print (get_column_data(model)[:10])"
   ]
  },
  {
   "cell_type": "code",
   "execution_count": 35,
   "metadata": {},
   "outputs": [
    {
     "data": {
      "image/png": "[encoded data removed]",
      "text/plain": [
       "<Figure size 576x288 with 1 Axes>"
      ]
     },
     "metadata": {
      "needs_background": "light"
     },
     "output_type": "display_data"
    }
   ],
   "source": [
    "f,ax=plt.subplots(1,1,figsize=(8,4))\n",
    "plot_states(model,ax)\n",
    "plt.savefig('SIR.png',dpi=150)"
   ]
  },
  {
   "cell_type": "code",
   "execution_count": 43,
   "metadata": {},
   "outputs": [
    {
     "name": "stdout",
     "output_type": "stream",
     "text": [
      "2.2762420177459717\n",
      "      Susceptible  Infected  Removed\n",
      "Step                                \n",
      "0            2471        29        0\n",
      "1             965      1262       32\n",
      "2             635      1216       63\n",
      "3             523       977       86\n",
      "4             493       753      102\n",
      "5             486       553      116\n",
      "6             483       385      138\n",
      "7             483       286      149\n",
      "8             482       203      157\n",
      "9             481       147      159\n"
     ]
    }
   ],
   "source": [
    "#pop=200\n",
    "steps=50\n",
    "st=time.time()\n",
    "model2 = NetworkInfectionModel(N=2500, ptrans=0.75, avg_node_degree=2, \\\n",
    "                 progression_period=3, progression_sd=2, death_rate=0.25, recovery_days=2, \\\n",
    "                 recovery_sd=7)\n",
    "for i in range(steps):\n",
    "    model2.step()\n",
    "print (time.time()-st)\n",
    "agent_state = model2.datacollector.get_agent_vars_dataframe()\n",
    "print (get_column_data(model2)[:10])"
   ]
  },
  {
   "cell_type": "code",
   "execution_count": 44,
   "metadata": {},
   "outputs": [
    {
     "data": {
      "image/png": "[encoded data removed]",
      "text/plain": [
       "<Figure size 576x288 with 1 Axes>"
      ]
     },
     "metadata": {
      "needs_background": "light"
     },
     "output_type": "display_data"
    }
   ],
   "source": [
    "f,ax=plt.subplots(1,1,figsize=(8,4))\n",
    "plot_states(model2,ax)\n",
    "plt.savefig('SIR.png',dpi=150)"
   ]
  },
  {
   "cell_type": "code",
   "execution_count": null,
   "metadata": {},
   "outputs": [],
   "source": []
  }
 ],
 "metadata": {
  "kernelspec": {
   "display_name": "Python 3",
   "language": "python",
   "name": "python3"
  },
  "language_info": {
   "codemirror_mode": {
    "name": "ipython",
    "version": 3
   },
   "file_extension": ".py",
   "mimetype": "text/x-python",
   "name": "python",
   "nbconvert_exporter": "python",
   "pygments_lexer": "ipython3",
   "version": "3.7.4"
  }
 },
 "nbformat": 4,
 "nbformat_minor": 4
}
